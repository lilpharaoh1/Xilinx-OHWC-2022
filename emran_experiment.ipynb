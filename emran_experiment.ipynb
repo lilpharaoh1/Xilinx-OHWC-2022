{
 "cells": [
  {
   "cell_type": "code",
   "execution_count": 1,
   "id": "3d4a4bf2",
   "metadata": {},
   "outputs": [],
   "source": [
    "import torch\n",
    "import pandas as pd\n",
    "import os\n",
    "import numpy as np\n",
    "import pydicom as dicom\n",
    "import matplotlib.pyplot as plt\n",
    "from torch.utils.data import Dataset, DataLoader\n",
    "import skimage.transform\n",
    "import torch.optim as optim"
   ]
  },
  {
   "cell_type": "code",
   "execution_count": 3,
   "id": "66531379",
   "metadata": {},
   "outputs": [],
   "source": [
    "import torch.nn as nn\n",
    "import torch.nn.functional as F\n",
    "\n",
    "class ConvLayer(nn.Sequential):\n",
    "    \"\"\"\n",
    "    Investigate what we want? -> pooling? Normalisation?\n",
    "    \"\"\"\n",
    "    def __init__(self, in_channel, out_channel, kernel_size=3, stride=1, \\\n",
    "                 groups=1, norm_layer=None) -> None:\n",
    "        padding = (kernel_size - 1) // 2\n",
    "        if norm_layer == None:\n",
    "            norm_layer = nn.BatchNorm2d\n",
    "        \n",
    "        super(ConvLayer, self).__init__(\n",
    "            nn.Conv2d(in_channel, out_channel, kernel_size=kernel_size, \\\n",
    "                      stride=stride, padding=padding, groups=groups, bias= False),\n",
    "            norm_layer(out_channel),\n",
    "            nn.ReLU6(inplace=True)\n",
    "        )"
   ]
  },
  {
   "cell_type": "code",
   "execution_count": null,
   "id": "9ee285d6",
   "metadata": {},
   "outputs": [],
   "source": [
    "# Forget this...\n",
    "class InvertedResidual(nn.Module):\n",
    "    def __init__(self, in_channel, out_channel, stride, expand_ratio, \\\n",
    "                 norm_layer=None) -> None:\n",
    "        super(InvertedResidual, self).__init__()\n",
    "        hidden_channel = in_channel * expand_ratio\n",
    "        self.use_shortcut = stride == 1 and in_channel == out_channel\n",
    "        if norm_layer == None:\n",
    "            norm_layer = nn.BatchNorm2d\n",
    "            \n",
    "        # Investigate if this is necessary? Maybe if architecture is too big?\n",
    "        \n",
    "        \n",
    "            \n",
    "        \n",
    "        "
   ]
  },
  {
   "cell_type": "code",
   "execution_count": null,
   "id": "50593ceb",
   "metadata": {},
   "outputs": [],
   "source": [
    "# Forget this...\n",
    "class CNN(nn.Module):\n",
    "    \"\"\"\n",
    "    Maybe Replace BatchNorm with AdaptiveAvg\n",
    "    \"\"\"\n",
    "    DROPOUT_RATE = .0\n",
    "    def __init__(self, output_dim = 4) -> None: \n",
    "        super(CNN, self).__init__()\n",
    "        self.layer1 = nn.Sequential(\n",
    "            nn.Conv2d(1, 32, kernel_size=(3, 3), stride=1, padding=1),\n",
    "            nn.ReLU(),\n",
    "            nn.MaxPool2d(kernel_size=(2, 2), stride=2),\n",
    "            nn.Dropout(p=DROPOUT_RATE)\n",
    "        )\n",
    "        \n",
    "        self.layer2 = nn.Sequential(\n",
    "            nn.Conv2d(32, 64, kernel_size=(3, 3), stride=1, padding=1),\n",
    "            nn.ReLU(),\n",
    "            nn.MaxPool2d(kernel_size=(2, 2), stride=2),\n",
    "            nn.Dropout(p=DROPOUT_RATE)\n",
    "        )\n",
    "        \n",
    "        self.layer3 = nn.Sequential(\n",
    "            nn.Conv2d(64, 128, kernel_size=(3, 3), stride=1, padding=1),\n",
    "            nn.ReLU(),\n",
    "            nn.MaxPool2d(kernel_size=(2, 2), stride=2),\n",
    "            nn.Dropout(p=DROPOUT_RATE)\n",
    "        )\n",
    "        \n",
    "        self.layer4 = nn.Sequential(\n",
    "            nn.Linear(128*3*3, 625, bias=True),\n",
    "            nn.ReLU(),\n",
    "            nn.Dropout(p=DROPOUT_RATE)\n",
    "        )\n",
    "        \n",
    "        self.output_layer = nn.Linear(625, output_dim, bias=True)\n",
    "        \n",
    "        self.log_softmax = F.logsoftmax\n",
    "        \n",
    "    def forward(self, x: torch.Tensor): #-> Something? torch.tensor I think?\n",
    "        x = self.layer1(x)\n",
    "        x = self.layer2(x)\n",
    "        x = self.layer3(x)\n",
    "        x = self.layer4(torch.flatten(x, start_dim=1))\n",
    "        x = self.output_layer(x)"
   ]
  },
  {
   "cell_type": "code",
   "execution_count": 7,
   "id": "6c366811",
   "metadata": {},
   "outputs": [],
   "source": [
    "class CNN(nn.Module): # better version lol\n",
    "    def __init__(self, output_dim = 5) -> None:\n",
    "        DROPOUT_RATE = .2\n",
    "        super(CNN, self).__init__()\n",
    "        expansions = [32, 64, 128]\n",
    "        features = []\n",
    "        input_channel, last_channel = 1, 1\n",
    "        for channel in expansions:\n",
    "            output_channel = channel\n",
    "            features.append(ConvLayer(input_channel, output_channel))\n",
    "            input_channel = output_channel\n",
    "        \n",
    "        dense_layer = [\n",
    "            nn.Flatten(start_dim=1),\n",
    "            nn.Linear(expansions[-1]*28*28, last_channel, bias=True),\n",
    "            nn.ReLU(),\n",
    "            nn.Dropout(p=DROPOUT_RATE)\n",
    "        ]\n",
    "        \n",
    "        classification_layer = [\n",
    "            nn.Linear(last_channel, output_dim, bias=True),\n",
    "        ]\n",
    "            \n",
    "        features.extend(dense_layer)\n",
    "        features.extend(classification_layer)\n",
    "                \n",
    "        self.conv = nn.Sequential(*features)\n",
    "        self.log_softmax = F.log_softmax # investigate quantisable version of this # Maybe do this in PYNQ instead?\n",
    "        \n",
    "    def forward(self, x: torch.Tensor) -> torch.Tensor:\n",
    "        x = self.conv(x)\n",
    "        return self.log_softmax(x, dim=1)\n"
   ]
  },
  {
   "cell_type": "code",
   "execution_count": 10,
   "id": "dac81274",
   "metadata": {},
   "outputs": [
    {
     "data": {
      "text/plain": [
       "tensor([[-1.6225, -1.9260, -1.1464, -1.0815]], grad_fn=<LogSoftmaxBackward0>)"
      ]
     },
     "execution_count": 10,
     "metadata": {},
     "output_type": "execute_result"
    }
   ],
   "source": [
    "model = CNN(output_dim=4)\n",
    "model(torch.rand(1, 1, 28, 28, requires_grad=True))"
   ]
  },
  {
   "cell_type": "code",
   "execution_count": null,
   "id": "1ef1d7d1",
   "metadata": {},
   "outputs": [],
   "source": []
  },
  {
   "cell_type": "code",
   "execution_count": null,
   "id": "7857013f",
   "metadata": {},
   "outputs": [],
   "source": []
  },
  {
   "cell_type": "code",
   "execution_count": null,
   "id": "f44f6112",
   "metadata": {},
   "outputs": [],
   "source": []
  },
  {
   "cell_type": "markdown",
   "id": "d7078e8a",
   "metadata": {},
   "source": [
    "Forget What's Below Here..."
   ]
  },
  {
   "cell_type": "code",
   "execution_count": 5,
   "id": "ea78e212",
   "metadata": {},
   "outputs": [],
   "source": [
    "import io\n",
    "import torch.utils.model_zoo as model_zoo\n",
    "import torch.onnx"
   ]
  },
  {
   "cell_type": "code",
   "execution_count": 6,
   "id": "2c8e3009",
   "metadata": {},
   "outputs": [],
   "source": [
    "torch.onnx.export(model, torch.rand(1, 1, 28, 28, requires_grad=True), \"CNN_Test.onnx\", \\\n",
    "                  export_params=True, opset_version=10, do_constant_folding=True, \\\n",
    "                 input_names = ['input'], output_names = ['output'])"
   ]
  },
  {
   "cell_type": "code",
   "execution_count": 7,
   "id": "94deadf5",
   "metadata": {},
   "outputs": [],
   "source": [
    "import onnx\n",
    "\n",
    "onnx_model = onnx.load(\"CNN_Test.onnx\")\n",
    "onnx.checker.check_model(onnx_model)"
   ]
  }
 ],
 "metadata": {
  "kernelspec": {
   "display_name": "Python 3 (ipykernel)",
   "language": "python",
   "name": "python3"
  },
  "language_info": {
   "codemirror_mode": {
    "name": "ipython",
    "version": 3
   },
   "file_extension": ".py",
   "mimetype": "text/x-python",
   "name": "python",
   "nbconvert_exporter": "python",
   "pygments_lexer": "ipython3",
   "version": "3.9.12"
  }
 },
 "nbformat": 4,
 "nbformat_minor": 5
}
